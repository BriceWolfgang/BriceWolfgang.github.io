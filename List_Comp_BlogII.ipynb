{
 "cells": [
  {
   "cell_type": "markdown",
   "metadata": {},
   "source": [
    "# Easy to comprehend list comprehensions \n",
    "\n",
    "This is the introduction to list comprehensions that I wish I had read when I first encountered them. There are other good introductions to list comprehensions, but I wrote this one based on a very simple concept: Every list comprehension evaluates to the list [1,2,3] This should make it easy to follow the examples as they go from very trivial to more complex."
   ]
  },
  {
   "cell_type": "markdown",
   "metadata": {},
   "source": [
    "tl;dr Every example here evaluates to [1,2,3]"
   ]
  },
  {
   "cell_type": "code",
   "execution_count": 10,
   "metadata": {},
   "outputs": [
    {
     "name": "stdout",
     "output_type": "stream",
     "text": [
      "[1, 2, 3]\n"
     ]
    }
   ],
   "source": [
    "#reductio ad absurdum\n",
    "\n",
    "foo = [x for x in [1,2,3]]\n",
    "\n",
    "print foo"
   ]
  },
  {
   "cell_type": "code",
   "execution_count": 11,
   "metadata": {},
   "outputs": [
    {
     "name": "stdout",
     "output_type": "stream",
     "text": [
      "[1, 2, 3]\n"
     ]
    }
   ],
   "source": [
    "# bar is a list which is an iterable object\n",
    "\n",
    "bar = [1,2,3]\n",
    "\n",
    "foo = [x for x in bar]\n",
    "\n",
    "print foo"
   ]
  },
  {
   "cell_type": "code",
   "execution_count": 13,
   "metadata": {},
   "outputs": [
    {
     "name": "stdout",
     "output_type": "stream",
     "text": [
      "[1, 2, 3]\n"
     ]
    }
   ],
   "source": [
    "# a list comprehension can work with anything thats an iterable object,\n",
    "# like the range() function\n",
    "\n",
    "foo = [x for x in range(1,4)]\n",
    "\n",
    "print foo"
   ]
  },
  {
   "cell_type": "code",
   "execution_count": 18,
   "metadata": {},
   "outputs": [
    {
     "name": "stdout",
     "output_type": "stream",
     "text": [
      "[1, 2, 3]\n"
     ]
    }
   ],
   "source": [
    "# on the left side of the list comp you can do stuff to the individual elements\n",
    "# as they come out of the iterator\n",
    "\n",
    "foo = [x+11 for x in range(-10,-7)]\n",
    "\n",
    "print foo"
   ]
  },
  {
   "cell_type": "code",
   "execution_count": 19,
   "metadata": {},
   "outputs": [
    {
     "name": "stdout",
     "output_type": "stream",
     "text": [
      "['1', '2', '3']\n"
     ]
    }
   ],
   "source": [
    "# here bar is a string which is also an iterable object\n",
    "\n",
    "bar = \"123\"\n",
    "\n",
    "foo = [x for x in bar]\n",
    "\n",
    "print foo"
   ]
  },
  {
   "cell_type": "code",
   "execution_count": 23,
   "metadata": {},
   "outputs": [
    {
     "name": "stdout",
     "output_type": "stream",
     "text": [
      "['1', '2', '3']\n"
     ]
    }
   ],
   "source": [
    "# side quest: .split() is very useful for getting at things in a string\n",
    "# that are separated by something\n",
    "\n",
    "bar = \"1$2$3\"\n",
    "\n",
    "foo = [x for x in bar.split('$')]\n",
    "\n",
    "print foo"
   ]
  },
  {
   "cell_type": "code",
   "execution_count": 26,
   "metadata": {},
   "outputs": [
    {
     "name": "stdout",
     "output_type": "stream",
     "text": [
      "[1, 2, 3]\n"
     ]
    }
   ],
   "source": [
    "# this is no better than foo =  bar.split(‘$’) except that it allows you to get at each \n",
    "# result of .split() That’s useful if you want to do something like force each item \n",
    "# to be an integer:\n",
    "\n",
    "foo = [int(x) for x in bar.split('$')]\n",
    "\n",
    "print foo"
   ]
  },
  {
   "cell_type": "code",
   "execution_count": 28,
   "metadata": {},
   "outputs": [
    {
     "name": "stdout",
     "output_type": "stream",
     "text": [
      "[1, 2, 3]\n"
     ]
    }
   ],
   "source": [
    "# If statements can be used on the right side of a list comprehension to filter \n",
    "# what is coming out of the iterator \n",
    "\n",
    "foo = [x for x in range(1,100) if x <= 3]\n",
    "\n",
    "print foo"
   ]
  },
  {
   "cell_type": "code",
   "execution_count": 34,
   "metadata": {},
   "outputs": [
    {
     "name": "stdout",
     "output_type": "stream",
     "text": [
      "[1, 2, 3]\n"
     ]
    }
   ],
   "source": [
    "# here is how to check if the items coming out of the iterator\n",
    "# are in another list\n",
    "\n",
    "wat = [1,2,3]\n",
    "\n",
    "bar = [-1,0,1,2,3]\n",
    "\n",
    "foo = [x for x in bar if x in wat] # returns the actual values\n",
    "\n",
    "print foo"
   ]
  },
  {
   "cell_type": "code",
   "execution_count": 41,
   "metadata": {},
   "outputs": [
    {
     "name": "stdout",
     "output_type": "stream",
     "text": [
      "[-1, 0, 1, 2, 3]\n",
      "[False, False, True, True, True]\n"
     ]
    }
   ],
   "source": [
    "# bool_foo is a list that is the same length as bar, \n",
    "# with True or False for each element depending on if it is in the list wat. \n",
    "# This is super useful for filtering pandas data frames\n",
    "\n",
    "bool_foo =  [(x in wat) for x in bar] \n",
    "\n",
    "print bar\n",
    "print bool_foo"
   ]
  }
 ],
 "metadata": {
  "kernelspec": {
   "display_name": "Python 2",
   "language": "python",
   "name": "python2"
  },
  "language_info": {
   "codemirror_mode": {
    "name": "ipython",
    "version": 2
   },
   "file_extension": ".py",
   "mimetype": "text/x-python",
   "name": "python",
   "nbconvert_exporter": "python",
   "pygments_lexer": "ipython2",
   "version": "2.7.13"
  }
 },
 "nbformat": 4,
 "nbformat_minor": 2
}
